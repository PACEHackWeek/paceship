{
 "cells": [
  {
   "cell_type": "markdown",
   "id": "48a05fb9-256e-4a50-a07b-74b3fd2afe57",
   "metadata": {},
   "source": [
    "## Setup"
   ]
  },
  {
   "cell_type": "code",
   "execution_count": null,
   "id": "9df7476d-79b9-4607-bcef-475043d0683c",
   "metadata": {},
   "outputs": [],
   "source": [
    "import earthaccess\n",
    "import fsspec\n",
    "import matplotlib.pyplot as plt\n",
    "import numpy as np\n",
    "import paceship\n",
    "import xarray as xr\n",
    "from cartopy.crs import Orthographic, PlateCarree\n",
    "from PIL import Image, ImageEnhance"
   ]
  },
  {
   "cell_type": "code",
   "execution_count": null,
   "id": "254b7e31-024f-4d04-bdd2-1a6f65e8c54a",
   "metadata": {},
   "outputs": [],
   "source": [
    "fsspec.config.conf[\"s3\"] = {\n",
    "    \"default_cache_type\": \"blockcache\",\n",
    "    \"default_block_size\": 2**22,\n",
    "}"
   ]
  },
  {
   "cell_type": "markdown",
   "id": "27e58c9a-4bad-471c-b981-fb0251406f7e",
   "metadata": {},
   "source": [
    "## Access Data"
   ]
  },
  {
   "cell_type": "code",
   "execution_count": null,
   "id": "faedf5c6-8442-4c14-9c8b-c3ceeb8cbcb9",
   "metadata": {},
   "outputs": [],
   "source": [
    "tspan = (\"2024-08\", \"2024-08\")\n",
    "results = earthaccess.search_data(\n",
    "    short_name=\"PACE_OCI_L3M_SFREFL\",\n",
    "    granule_name=\"*.MO.*.0p1deg.*\",\n",
    "    temporal=tspan,\n",
    ")"
   ]
  },
  {
   "cell_type": "code",
   "execution_count": null,
   "id": "9fab313f-c0ef-456c-85f0-93fe49b1061c",
   "metadata": {},
   "outputs": [],
   "source": [
    "paths = earthaccess.open(results)"
   ]
  },
  {
   "cell_type": "code",
   "execution_count": null,
   "id": "147a4481-3f13-4eb2-bf38-84125d3b67b6",
   "metadata": {},
   "outputs": [],
   "source": [
    "dataset = xr.open_dataset(paths[0])"
   ]
  },
  {
   "cell_type": "code",
   "execution_count": null,
   "id": "ce404dca-6706-4fbb-8f5c-c4ff8a0e40a4",
   "metadata": {},
   "outputs": [],
   "source": [
    "dataset"
   ]
  },
  {
   "cell_type": "markdown",
   "id": "c90814be-c3d3-4652-9fa1-a2c054d16bba",
   "metadata": {},
   "source": [
    "## Generate Figure"
   ]
  },
  {
   "cell_type": "code",
   "execution_count": null,
   "id": "e9ede36d-9cb3-411b-ba8d-79158be28f9d",
   "metadata": {},
   "outputs": [],
   "source": [
    "rgb = dataset[\"rhos\"].sel({\"wavelength\": [645, 555, 440]}, method=\"nearest\")\n",
    "rgb.load()"
   ]
  },
  {
   "cell_type": "code",
   "execution_count": null,
   "id": "1c1f0ae8-5d19-458f-bb19-ce1a7675c0df",
   "metadata": {},
   "outputs": [],
   "source": [
    "rgb = paceship.l3enhance(rgb)"
   ]
  },
  {
   "cell_type": "code",
   "execution_count": null,
   "id": "4d1f6dcd-ba99-4628-8933-7e1b523e50f3",
   "metadata": {},
   "outputs": [],
   "source": [
    "plot = rgb.plot.imshow()"
   ]
  },
  {
   "cell_type": "code",
   "execution_count": null,
   "id": "e67b96c3-ebf0-4c54-aeb1-ba9341999532",
   "metadata": {},
   "outputs": [],
   "source": [
    "fig, ax = plt.subplots(figsize=(4, 4), subplot_kw={\"projection\": Orthographic(-30)})\n",
    "plot = rgb.plot.imshow(ax=ax, transform=PlateCarree())\n",
    "plt.show()"
   ]
  },
  {
   "cell_type": "markdown",
   "id": "14ce8b13-9828-426c-9681-c363cac8dfa5",
   "metadata": {},
   "source": [
    "## Save as PNG"
   ]
  },
  {
   "cell_type": "code",
   "execution_count": null,
   "id": "2d1b9d00-ee7e-43c5-8993-1647af753692",
   "metadata": {},
   "outputs": [],
   "source": [
    "fig.savefig(f\"{tspan[0]}-blue-marble.png\", dpi=72, transparent=True)"
   ]
  },
  {
   "cell_type": "code",
   "execution_count": null,
   "id": "4fc0c803-de0a-4fc5-a35e-3824649f3597",
   "metadata": {},
   "outputs": [],
   "source": []
  }
 ],
 "metadata": {
  "jupytext": {
   "default_lexer": "ipython3"
  },
  "kernelspec": {
   "display_name": "Python 3 (ipykernel)",
   "language": "python",
   "name": "python3"
  },
  "language_info": {
   "codemirror_mode": {
    "name": "ipython",
    "version": 3
   },
   "file_extension": ".py",
   "mimetype": "text/x-python",
   "name": "python",
   "nbconvert_exporter": "python",
   "pygments_lexer": "ipython3",
   "version": "3.11.11"
  },
  "widgets": {
   "application/vnd.jupyter.widget-state+json": {
    "state": {
     "03ce6adf68a54116a3936cfe7b744b9d": {
      "model_module": "@jupyter-widgets/controls",
      "model_module_version": "2.0.0",
      "model_name": "HTMLStyleModel",
      "state": {
       "description_width": "",
       "font_size": null,
       "text_color": null
      }
     },
     "070609e30e124f69a17786dd652744db": {
      "model_module": "@jupyter-widgets/controls",
      "model_module_version": "2.0.0",
      "model_name": "HTMLModel",
      "state": {
       "layout": "IPY_MODEL_c906e41023834bc288c1180b6d05aaaa",
       "style": "IPY_MODEL_fb6d59172f1b4869aa1d7c0ccd5453fa",
       "value": "PROCESSING TASKS | : 100%"
      }
     },
     "09b527e184834f27ab462a2a546c0b98": {
      "model_module": "@jupyter-widgets/base",
      "model_module_version": "2.0.0",
      "model_name": "LayoutModel",
      "state": {}
     },
     "0affeb38663b42f59e2f67895ccbf109": {
      "model_module": "@jupyter-widgets/controls",
      "model_module_version": "2.0.0",
      "model_name": "FloatProgressModel",
      "state": {
       "bar_style": "success",
       "layout": "IPY_MODEL_847aaa63d1b146ed8c019c92c77a64f4",
       "max": 1,
       "style": "IPY_MODEL_84d84e6219d64c0b94c5ab6f95f62205",
       "value": 1
      }
     },
     "0bde70ea129f41baace10347b59ae37e": {
      "model_module": "@jupyter-widgets/base",
      "model_module_version": "2.0.0",
      "model_name": "LayoutModel",
      "state": {}
     },
     "14ac31fce28444dd9b08cf450d06117a": {
      "model_module": "@jupyter-widgets/controls",
      "model_module_version": "2.0.0",
      "model_name": "HTMLStyleModel",
      "state": {
       "description_width": "",
       "font_size": null,
       "text_color": null
      }
     },
     "195d18e351f64c4a8c19d924c26f37cc": {
      "model_module": "@jupyter-widgets/controls",
      "model_module_version": "2.0.0",
      "model_name": "HTMLModel",
      "state": {
       "layout": "IPY_MODEL_b3b6c6212c3945409697ef6099a091c2",
       "style": "IPY_MODEL_515dbcccad6c4561b8c45220c3a4e68f",
       "value": "QUEUEING TASKS | : 100%"
      }
     },
     "2b98c900329549dd9fbae21e15192dbc": {
      "model_module": "@jupyter-widgets/controls",
      "model_module_version": "2.0.0",
      "model_name": "HTMLStyleModel",
      "state": {
       "description_width": "",
       "font_size": null,
       "text_color": null
      }
     },
     "31915d8637c643879a1b2530fc6fa293": {
      "model_module": "@jupyter-widgets/base",
      "model_module_version": "2.0.0",
      "model_name": "LayoutModel",
      "state": {}
     },
     "3e09661670c24040b770c6dc84631314": {
      "model_module": "@jupyter-widgets/controls",
      "model_module_version": "2.0.0",
      "model_name": "HTMLModel",
      "state": {
       "layout": "IPY_MODEL_09b527e184834f27ab462a2a546c0b98",
       "style": "IPY_MODEL_14ac31fce28444dd9b08cf450d06117a",
       "value": "COLLECTING RESULTS | : 100%"
      }
     },
     "3fb123bd23c4439fb0443eb4665199ff": {
      "model_module": "@jupyter-widgets/base",
      "model_module_version": "2.0.0",
      "model_name": "LayoutModel",
      "state": {}
     },
     "4af236a9564f4c0e872a91ee801d6c53": {
      "model_module": "@jupyter-widgets/controls",
      "model_module_version": "2.0.0",
      "model_name": "FloatProgressModel",
      "state": {
       "bar_style": "success",
       "layout": "IPY_MODEL_3fb123bd23c4439fb0443eb4665199ff",
       "max": 1,
       "style": "IPY_MODEL_9cb983010a75495aaeb7e4e23838498c",
       "value": 1
      }
     },
     "4fda068e2c184fe8b95917049577e266": {
      "model_module": "@jupyter-widgets/base",
      "model_module_version": "2.0.0",
      "model_name": "LayoutModel",
      "state": {}
     },
     "515dbcccad6c4561b8c45220c3a4e68f": {
      "model_module": "@jupyter-widgets/controls",
      "model_module_version": "2.0.0",
      "model_name": "HTMLStyleModel",
      "state": {
       "description_width": "",
       "font_size": null,
       "text_color": null
      }
     },
     "64b6dbde79714034ac0a018429f4afa2": {
      "model_module": "@jupyter-widgets/controls",
      "model_module_version": "2.0.0",
      "model_name": "HTMLModel",
      "state": {
       "layout": "IPY_MODEL_0bde70ea129f41baace10347b59ae37e",
       "style": "IPY_MODEL_2b98c900329549dd9fbae21e15192dbc",
       "value": " 1/1 [00:00&lt;00:00,  6.54it/s]"
      }
     },
     "6d15adfbe6834340addcb9a08f9dd961": {
      "model_module": "@jupyter-widgets/base",
      "model_module_version": "2.0.0",
      "model_name": "LayoutModel",
      "state": {}
     },
     "82c272fd00f447a78a1c72cfb5fff7cb": {
      "model_module": "@jupyter-widgets/base",
      "model_module_version": "2.0.0",
      "model_name": "LayoutModel",
      "state": {}
     },
     "847aaa63d1b146ed8c019c92c77a64f4": {
      "model_module": "@jupyter-widgets/base",
      "model_module_version": "2.0.0",
      "model_name": "LayoutModel",
      "state": {}
     },
     "84d84e6219d64c0b94c5ab6f95f62205": {
      "model_module": "@jupyter-widgets/controls",
      "model_module_version": "2.0.0",
      "model_name": "ProgressStyleModel",
      "state": {
       "description_width": ""
      }
     },
     "965136a12f1e4e4daff2432e05d5462c": {
      "model_module": "@jupyter-widgets/controls",
      "model_module_version": "2.0.0",
      "model_name": "HBoxModel",
      "state": {
       "children": [
        "IPY_MODEL_3e09661670c24040b770c6dc84631314",
        "IPY_MODEL_0affeb38663b42f59e2f67895ccbf109",
        "IPY_MODEL_f2214fd8ff9e4d128ceea530765836e7"
       ],
       "layout": "IPY_MODEL_82c272fd00f447a78a1c72cfb5fff7cb"
      }
     },
     "9cb983010a75495aaeb7e4e23838498c": {
      "model_module": "@jupyter-widgets/controls",
      "model_module_version": "2.0.0",
      "model_name": "ProgressStyleModel",
      "state": {
       "description_width": ""
      }
     },
     "9ec4966d7cc44ffe99c76f7eb7e8c0af": {
      "model_module": "@jupyter-widgets/controls",
      "model_module_version": "2.0.0",
      "model_name": "HTMLModel",
      "state": {
       "layout": "IPY_MODEL_4fda068e2c184fe8b95917049577e266",
       "style": "IPY_MODEL_03ce6adf68a54116a3936cfe7b744b9d",
       "value": " 1/1 [00:00&lt;00:00, 97.55it/s]"
      }
     },
     "a0a847216778441a85fec248534189b3": {
      "model_module": "@jupyter-widgets/controls",
      "model_module_version": "2.0.0",
      "model_name": "ProgressStyleModel",
      "state": {
       "description_width": ""
      }
     },
     "a9fb1f42d40b46a0ac533b6df43f493a": {
      "model_module": "@jupyter-widgets/controls",
      "model_module_version": "2.0.0",
      "model_name": "HBoxModel",
      "state": {
       "children": [
        "IPY_MODEL_195d18e351f64c4a8c19d924c26f37cc",
        "IPY_MODEL_f11a90161aa7465d99fc3b4552879af8",
        "IPY_MODEL_9ec4966d7cc44ffe99c76f7eb7e8c0af"
       ],
       "layout": "IPY_MODEL_31915d8637c643879a1b2530fc6fa293"
      }
     },
     "b3b6c6212c3945409697ef6099a091c2": {
      "model_module": "@jupyter-widgets/base",
      "model_module_version": "2.0.0",
      "model_name": "LayoutModel",
      "state": {}
     },
     "b9283df557db4b0b83e3a00fbeb1b28e": {
      "model_module": "@jupyter-widgets/controls",
      "model_module_version": "2.0.0",
      "model_name": "HBoxModel",
      "state": {
       "children": [
        "IPY_MODEL_070609e30e124f69a17786dd652744db",
        "IPY_MODEL_4af236a9564f4c0e872a91ee801d6c53",
        "IPY_MODEL_64b6dbde79714034ac0a018429f4afa2"
       ],
       "layout": "IPY_MODEL_cb2ecf19faef4bf3ad3dadd4c662986f"
      }
     },
     "c906e41023834bc288c1180b6d05aaaa": {
      "model_module": "@jupyter-widgets/base",
      "model_module_version": "2.0.0",
      "model_name": "LayoutModel",
      "state": {}
     },
     "cb2ecf19faef4bf3ad3dadd4c662986f": {
      "model_module": "@jupyter-widgets/base",
      "model_module_version": "2.0.0",
      "model_name": "LayoutModel",
      "state": {}
     },
     "d8451dc0e6664e00b985c1098b338ddd": {
      "model_module": "@jupyter-widgets/controls",
      "model_module_version": "2.0.0",
      "model_name": "HTMLStyleModel",
      "state": {
       "description_width": "",
       "font_size": null,
       "text_color": null
      }
     },
     "ebe476b3f470407d88e62c460a0632af": {
      "model_module": "@jupyter-widgets/base",
      "model_module_version": "2.0.0",
      "model_name": "LayoutModel",
      "state": {}
     },
     "f11a90161aa7465d99fc3b4552879af8": {
      "model_module": "@jupyter-widgets/controls",
      "model_module_version": "2.0.0",
      "model_name": "FloatProgressModel",
      "state": {
       "bar_style": "success",
       "layout": "IPY_MODEL_6d15adfbe6834340addcb9a08f9dd961",
       "max": 1,
       "style": "IPY_MODEL_a0a847216778441a85fec248534189b3",
       "value": 1
      }
     },
     "f2214fd8ff9e4d128ceea530765836e7": {
      "model_module": "@jupyter-widgets/controls",
      "model_module_version": "2.0.0",
      "model_name": "HTMLModel",
      "state": {
       "layout": "IPY_MODEL_ebe476b3f470407d88e62c460a0632af",
       "style": "IPY_MODEL_d8451dc0e6664e00b985c1098b338ddd",
       "value": " 1/1 [00:00&lt;00:00, 167.00it/s]"
      }
     },
     "fb6d59172f1b4869aa1d7c0ccd5453fa": {
      "model_module": "@jupyter-widgets/controls",
      "model_module_version": "2.0.0",
      "model_name": "HTMLStyleModel",
      "state": {
       "description_width": "",
       "font_size": null,
       "text_color": null
      }
     }
    },
    "version_major": 2,
    "version_minor": 0
   }
  }
 },
 "nbformat": 4,
 "nbformat_minor": 5
}
