{
 "cells": [
  {
   "cell_type": "code",
   "execution_count": null,
   "id": "9df7476d-79b9-4607-bcef-475043d0683c",
   "metadata": {},
   "outputs": [],
   "source": [
    "import fsspec"
   ]
  },
  {
   "cell_type": "code",
   "execution_count": null,
   "id": "254b7e31-024f-4d04-bdd2-1a6f65e8c54a",
   "metadata": {},
   "outputs": [],
   "source": [
    "fsspec.config.conf[\"s3\"] = {\n",
    "\"default_cache_type\": \"blockcache\",\n",
    "\"default_block_size\": 2**22\n",
    "}"
   ]
  },
  {
   "cell_type": "code",
   "execution_count": null,
   "id": "37d392fb-da85-48b0-abba-1160abc2ee28",
   "metadata": {},
   "outputs": [],
   "source": [
    "import earthaccess\n",
    "import xarray as xr"
   ]
  },
  {
   "cell_type": "code",
   "execution_count": null,
   "id": "faedf5c6-8442-4c14-9c8b-c3ceeb8cbcb9",
   "metadata": {},
   "outputs": [],
   "source": [
    "tspan = (\"2024-08\", '2024-08')\n",
    "results = earthaccess.search_data(short_name=\"PACE_OCI_L3M_SFREFL\", granule_name=\"*.MO.*.0p1deg.*\", temporal=tspan)"
   ]
  },
  {
   "cell_type": "code",
   "execution_count": null,
   "id": "9fab313f-c0ef-456c-85f0-93fe49b1061c",
   "metadata": {},
   "outputs": [],
   "source": [
    "paths = earthaccess.open(results)"
   ]
  },
  {
   "cell_type": "code",
   "execution_count": null,
   "id": "147a4481-3f13-4eb2-bf38-84125d3b67b6",
   "metadata": {},
   "outputs": [],
   "source": [
    "dataset = xr.open_dataset(paths[0])"
   ]
  },
  {
   "cell_type": "code",
   "execution_count": null,
   "id": "ce404dca-6706-4fbb-8f5c-c4ff8a0e40a4",
   "metadata": {},
   "outputs": [],
   "source": [
    "dataset"
   ]
  },
  {
   "cell_type": "code",
   "execution_count": null,
   "id": "e9ede36d-9cb3-411b-ba8d-79158be28f9d",
   "metadata": {},
   "outputs": [],
   "source": [
    "rgb = dataset[\"rhos\"].sel({\"wavelength\": [645, 555, 440]}, method=\"nearest\")"
   ]
  },
  {
   "cell_type": "code",
   "execution_count": null,
   "id": "4d1f6dcd-ba99-4628-8933-7e1b523e50f3",
   "metadata": {},
   "outputs": [],
   "source": [
    "plot = rgb.plot.imshow()"
   ]
  },
  {
   "cell_type": "code",
   "execution_count": null,
   "id": "285190f2-1909-4da2-b84b-1fd58565a3d1",
   "metadata": {},
   "outputs": [],
   "source": [
    "import numpy as np\n",
    "from PIL import Image, ImageEnhance\n",
    "\n",
    "rgb\n",
    "scale = 0.01\n",
    "vmin = 0\n",
    "vmax = 1.1\n",
    "gamma = 1\n",
    "contrast = 1.1\n",
    "brightness = 1\n",
    "sharpness = 1.1\n",
    "saturation = 1\n",
    "\n",
    "da = rgb.where(rgb > 0)\n",
    "da = np.log(da / scale) / np.log(1 / scale)\n",
    "da = da.clip(vmin, vmax)\n",
    "da = (da - da.min()) / (da.max() - da.min())\n",
    "da = da * gamma\n",
    "da = da * 255\n",
    "da = da.where(da.notnull(), 0).astype(\"uint8\")\n",
    "img = Image.fromarray(da.data)\n",
    "enhancer = ImageEnhance.Contrast(img)\n",
    "img = enhancer.enhance(contrast)\n",
    "enhancer = ImageEnhance.Brightness(img)\n",
    "img = enhancer.enhance(brightness)\n",
    "enhancer = ImageEnhance.Sharpness(img)\n",
    "img = enhancer.enhance(sharpness)\n",
    "enhancer = ImageEnhance.Color(img)\n",
    "img = enhancer.enhance(saturation)\n",
    "rgb[:] = np.array(img) / 255"
   ]
  },
  {
   "cell_type": "code",
   "execution_count": null,
   "id": "e67b96c3-ebf0-4c54-aeb1-ba9341999532",
   "metadata": {},
   "outputs": [],
   "source": [
    "plot = rgb.plot.imshow()"
   ]
  },
  {
   "cell_type": "code",
   "execution_count": null,
   "id": "2d1b9d00-ee7e-43c5-8993-1647af753692",
   "metadata": {},
   "outputs": [],
   "source": []
  }
 ],
 "metadata": {
  "jupytext": {
   "default_lexer": "ipython3"
  },
  "kernelspec": {
   "display_name": "Python 3 (ipykernel)",
   "language": "python",
   "name": "python3"
  },
  "language_info": {
   "codemirror_mode": {
    "name": "ipython",
    "version": 3
   },
   "file_extension": ".py",
   "mimetype": "text/x-python",
   "name": "python",
   "nbconvert_exporter": "python",
   "pygments_lexer": "ipython3",
   "version": "3.11.11"
  },
  "widgets": {
   "application/vnd.jupyter.widget-state+json": {
    "state": {},
    "version_major": 2,
    "version_minor": 0
   }
  }
 },
 "nbformat": 4,
 "nbformat_minor": 5
}
