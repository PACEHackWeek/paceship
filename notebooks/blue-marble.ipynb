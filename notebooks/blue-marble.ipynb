{
 "cells": [
  {
   "cell_type": "markdown",
   "id": "48a05fb9-256e-4a50-a07b-74b3fd2afe57",
   "metadata": {},
   "source": [
    "## Setup"
   ]
  },
  {
   "cell_type": "markdown",
   "id": "5fcaed82-ed01-4e5a-b7e6-efd0a983ca16",
   "metadata": {},
   "source": [
    "Every time you start a new JupyterLab server, you need to run the next cell and restart the kernel."
   ]
  },
  {
   "cell_type": "code",
   "execution_count": null,
   "id": "a94b44f7-23ff-4f9c-a117-144e7374e8d9",
   "metadata": {
    "scrolled": true
   },
   "outputs": [],
   "source": [
    "%pip install git+https://github.com/pacehackweek/paceship"
   ]
  },
  {
   "cell_type": "code",
   "execution_count": null,
   "id": "9df7476d-79b9-4607-bcef-475043d0683c",
   "metadata": {},
   "outputs": [],
   "source": [
    "import earthaccess\n",
    "import fsspec\n",
    "import matplotlib.pyplot as plt\n",
    "import paceship\n",
    "import xarray as xr"
   ]
  },
  {
   "cell_type": "code",
   "execution_count": null,
   "id": "254b7e31-024f-4d04-bdd2-1a6f65e8c54a",
   "metadata": {},
   "outputs": [],
   "source": [
    "fsspec.config.conf[\"s3\"] = {\n",
    "    \"default_cache_type\": \"blockcache\",\n",
    "    \"default_block_size\": 2**22,\n",
    "}"
   ]
  },
  {
   "cell_type": "markdown",
   "id": "27e58c9a-4bad-471c-b981-fb0251406f7e",
   "metadata": {},
   "source": [
    "## Access Data"
   ]
  },
  {
   "cell_type": "code",
   "execution_count": null,
   "id": "faedf5c6-8442-4c14-9c8b-c3ceeb8cbcb9",
   "metadata": {},
   "outputs": [],
   "source": [
    "tspan = (\"2024-08\", \"2024-08\")\n",
    "results = earthaccess.search_data(\n",
    "    short_name=\"PACE_OCI_L3M_SFREFL\",\n",
    "    granule_name=\"*.MO.*.0p1deg.*\",\n",
    "    temporal=tspan,\n",
    ")"
   ]
  },
  {
   "cell_type": "code",
   "execution_count": null,
   "id": "9fab313f-c0ef-456c-85f0-93fe49b1061c",
   "metadata": {},
   "outputs": [],
   "source": [
    "paths = earthaccess.open(results)"
   ]
  },
  {
   "cell_type": "code",
   "execution_count": null,
   "id": "147a4481-3f13-4eb2-bf38-84125d3b67b6",
   "metadata": {},
   "outputs": [],
   "source": [
    "dataset = xr.open_dataset(paths[0])"
   ]
  },
  {
   "cell_type": "code",
   "execution_count": null,
   "id": "ce404dca-6706-4fbb-8f5c-c4ff8a0e40a4",
   "metadata": {},
   "outputs": [],
   "source": [
    "dataset"
   ]
  },
  {
   "cell_type": "markdown",
   "id": "c90814be-c3d3-4652-9fa1-a2c054d16bba",
   "metadata": {},
   "source": [
    "## Generate Figure"
   ]
  },
  {
   "cell_type": "code",
   "execution_count": null,
   "id": "e9ede36d-9cb3-411b-ba8d-79158be28f9d",
   "metadata": {},
   "outputs": [],
   "source": [
    "rgb = dataset[\"rhos\"].sel({\"wavelength\": [645, 555, 440]}, method=\"nearest\")\n",
    "rgb.load()"
   ]
  },
  {
   "cell_type": "code",
   "execution_count": null,
   "id": "1c1f0ae8-5d19-458f-bb19-ce1a7675c0df",
   "metadata": {},
   "outputs": [],
   "source": [
    "rgb = paceship.l3enhance(rgb)"
   ]
  },
  {
   "cell_type": "code",
   "execution_count": null,
   "id": "4d1f6dcd-ba99-4628-8933-7e1b523e50f3",
   "metadata": {},
   "outputs": [],
   "source": [
    "plot = rgb.plot.imshow()"
   ]
  },
  {
   "cell_type": "code",
   "execution_count": null,
   "id": "e67b96c3-ebf0-4c54-aeb1-ba9341999532",
   "metadata": {},
   "outputs": [],
   "source": [
    "fig, ax = plt.subplots(figsize=(4, 4), subplot_kw={\"projection\": Orthographic(-30)})\n",
    "plot = rgb.plot.imshow(ax=ax, transform=PlateCarree())\n",
    "plt.show()"
   ]
  },
  {
   "cell_type": "markdown",
   "id": "14ce8b13-9828-426c-9681-c363cac8dfa5",
   "metadata": {},
   "source": [
    "## Save as PNG"
   ]
  },
  {
   "cell_type": "code",
   "execution_count": null,
   "id": "2d1b9d00-ee7e-43c5-8993-1647af753692",
   "metadata": {},
   "outputs": [],
   "source": [
    "fig.savefig(f\"{tspan[0]}-blue-marble.png\", dpi=72, transparent=True)"
   ]
  },
  {
   "cell_type": "code",
   "execution_count": null,
   "id": "4fc0c803-de0a-4fc5-a35e-3824649f3597",
   "metadata": {},
   "outputs": [],
   "source": []
  }
 ],
 "metadata": {
  "jupytext": {
   "default_lexer": "ipython3"
  },
  "kernelspec": {
   "display_name": "Python 3 (ipykernel)",
   "language": "python",
   "name": "python3"
  },
  "language_info": {
   "codemirror_mode": {
    "name": "ipython",
    "version": 3
   },
   "file_extension": ".py",
   "mimetype": "text/x-python",
   "name": "python",
   "nbconvert_exporter": "python",
   "pygments_lexer": "ipython3",
   "version": "3.11.11"
  },
  "widgets": {
   "application/vnd.jupyter.widget-state+json": {
    "state": {},
    "version_major": 2,
    "version_minor": 0
   }
  }
 },
 "nbformat": 4,
 "nbformat_minor": 5
}
